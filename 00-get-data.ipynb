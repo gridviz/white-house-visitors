{
 "cells": [
  {
   "cell_type": "markdown",
   "metadata": {
    "tags": []
   },
   "source": [
    "# White House visitor logs"
   ]
  },
  {
   "cell_type": "markdown",
   "metadata": {},
   "source": [
    "### Import Python tools and Jupyter configuration"
   ]
  },
  {
   "cell_type": "code",
   "execution_count": 1,
   "metadata": {},
   "outputs": [],
   "source": [
    "%load_ext lab_black"
   ]
  },
  {
   "cell_type": "code",
   "execution_count": 19,
   "metadata": {},
   "outputs": [],
   "source": [
    "import pandas as pd\n",
    "import requests\n",
    "import re\n",
    "from bs4 import BeautifulSoup\n",
    "import glob\n",
    "import datetime as dt"
   ]
  },
  {
   "cell_type": "markdown",
   "metadata": {},
   "source": [
    "### Read the page to find links to raw data"
   ]
  },
  {
   "cell_type": "code",
   "execution_count": 6,
   "metadata": {},
   "outputs": [],
   "source": [
    "r = requests.get(\"https://www.whitehouse.gov/disclosures/visitor-logs/\")\n",
    "soup = BeautifulSoup(r.text, \"html.parser\")"
   ]
  },
  {
   "cell_type": "code",
   "execution_count": 7,
   "metadata": {},
   "outputs": [],
   "source": [
    "links = [a.get(\"href\") for a in soup.find_all(\"a\", href=re.compile(\".csv\"))]"
   ]
  },
  {
   "cell_type": "code",
   "execution_count": 8,
   "metadata": {},
   "outputs": [],
   "source": [
    "for link in links:\n",
    "    !wget -P 'data/raw/csv' {link} --quiet -N"
   ]
  },
  {
   "cell_type": "code",
   "execution_count": 9,
   "metadata": {},
   "outputs": [],
   "source": [
    "path = \"data/raw/csv/\"\n",
    "all_files = glob.glob(path + \"*.csv\")\n",
    "\n",
    "li = []\n",
    "\n",
    "for filename in all_files:\n",
    "    df = pd.read_csv(filename, index_col=None, header=0)\n",
    "    li.append(df)\n",
    "\n",
    "src = pd.concat(li, axis=0, ignore_index=True)"
   ]
  },
  {
   "cell_type": "markdown",
   "metadata": {},
   "source": [
    "### Clean up the columns"
   ]
  },
  {
   "cell_type": "code",
   "execution_count": 10,
   "metadata": {},
   "outputs": [],
   "source": [
    "src.columns = src.columns.str.lower()"
   ]
  },
  {
   "cell_type": "code",
   "execution_count": 11,
   "metadata": {},
   "outputs": [],
   "source": [
    "src = src[src.columns.drop(list(src.filter(regex=\"unnamed\")))]"
   ]
  },
  {
   "cell_type": "code",
   "execution_count": 12,
   "metadata": {},
   "outputs": [],
   "source": [
    "src = src.sort_values(\"releasedate\", ascending=False)"
   ]
  },
  {
   "cell_type": "code",
   "execution_count": 13,
   "metadata": {},
   "outputs": [
    {
     "data": {
      "text/html": [
       "<div>\n",
       "<style scoped>\n",
       "    .dataframe tbody tr th:only-of-type {\n",
       "        vertical-align: middle;\n",
       "    }\n",
       "\n",
       "    .dataframe tbody tr th {\n",
       "        vertical-align: top;\n",
       "    }\n",
       "\n",
       "    .dataframe thead th {\n",
       "        text-align: right;\n",
       "    }\n",
       "</style>\n",
       "<table border=\"1\" class=\"dataframe\">\n",
       "  <thead>\n",
       "    <tr style=\"text-align: right;\">\n",
       "      <th></th>\n",
       "      <th>namelast</th>\n",
       "      <th>namefirst</th>\n",
       "      <th>namemid</th>\n",
       "      <th>uin</th>\n",
       "      <th>bdgnbr</th>\n",
       "      <th>access_type</th>\n",
       "      <th>toa</th>\n",
       "      <th>poa</th>\n",
       "      <th>tod</th>\n",
       "      <th>pod</th>\n",
       "      <th>...</th>\n",
       "      <th>terminal_suffix</th>\n",
       "      <th>visitee_namelast</th>\n",
       "      <th>visitee_namefirst</th>\n",
       "      <th>meeting_loc</th>\n",
       "      <th>meeting_room</th>\n",
       "      <th>caller_name_last</th>\n",
       "      <th>caller_name_first</th>\n",
       "      <th>caller_room</th>\n",
       "      <th>releasedate</th>\n",
       "      <th>description</th>\n",
       "    </tr>\n",
       "  </thead>\n",
       "  <tbody>\n",
       "    <tr>\n",
       "      <th>21913</th>\n",
       "      <td>FINKELSTEIN</td>\n",
       "      <td>MORGAN</td>\n",
       "      <td>A</td>\n",
       "      <td>U25158</td>\n",
       "      <td>NaN</td>\n",
       "      <td>VA</td>\n",
       "      <td>NaN</td>\n",
       "      <td>NaN</td>\n",
       "      <td>NaN</td>\n",
       "      <td>NaN</td>\n",
       "      <td>...</td>\n",
       "      <td>MB</td>\n",
       "      <td>Browne</td>\n",
       "      <td>Martin</td>\n",
       "      <td>OEOB</td>\n",
       "      <td>97</td>\n",
       "      <td>BROWNE</td>\n",
       "      <td>MARTIN</td>\n",
       "      <td>NaN</td>\n",
       "      <td>8/30/2021</td>\n",
       "      <td>NaN</td>\n",
       "    </tr>\n",
       "    <tr>\n",
       "      <th>21836</th>\n",
       "      <td>DELKER</td>\n",
       "      <td>BRIAN</td>\n",
       "      <td>N</td>\n",
       "      <td>U25032</td>\n",
       "      <td>177630.0</td>\n",
       "      <td>VA</td>\n",
       "      <td>5/19/2021 9:27</td>\n",
       "      <td>K0101</td>\n",
       "      <td>5/19/2021 11:07</td>\n",
       "      <td>K01</td>\n",
       "      <td>...</td>\n",
       "      <td>GH</td>\n",
       "      <td>Holt</td>\n",
       "      <td>Charles</td>\n",
       "      <td>NEOB</td>\n",
       "      <td>SB235</td>\n",
       "      <td>HALL</td>\n",
       "      <td>GREGORY</td>\n",
       "      <td>NaN</td>\n",
       "      <td>8/30/2021</td>\n",
       "      <td>NaN</td>\n",
       "    </tr>\n",
       "    <tr>\n",
       "      <th>21822</th>\n",
       "      <td>SMITH</td>\n",
       "      <td>SARAH</td>\n",
       "      <td>E</td>\n",
       "      <td>U24917</td>\n",
       "      <td>177882.0</td>\n",
       "      <td>VA</td>\n",
       "      <td>5/18/2021 13:49</td>\n",
       "      <td>B0401</td>\n",
       "      <td>NaN</td>\n",
       "      <td>NaN</td>\n",
       "      <td>...</td>\n",
       "      <td>LM</td>\n",
       "      <td>Mazzeo</td>\n",
       "      <td>Lou</td>\n",
       "      <td>OEOB</td>\n",
       "      <td>330</td>\n",
       "      <td>MAZZEO</td>\n",
       "      <td>LOUIS</td>\n",
       "      <td>NaN</td>\n",
       "      <td>8/30/2021</td>\n",
       "      <td>NaN</td>\n",
       "    </tr>\n",
       "    <tr>\n",
       "      <th>21823</th>\n",
       "      <td>VENEZIA</td>\n",
       "      <td>ERICA</td>\n",
       "      <td>L</td>\n",
       "      <td>U24917</td>\n",
       "      <td>177993.0</td>\n",
       "      <td>VA</td>\n",
       "      <td>5/18/2021 13:50</td>\n",
       "      <td>B0401</td>\n",
       "      <td>5/18/2021 16:21</td>\n",
       "      <td>D03</td>\n",
       "      <td>...</td>\n",
       "      <td>LM</td>\n",
       "      <td>Mazzeo</td>\n",
       "      <td>Lou</td>\n",
       "      <td>OEOB</td>\n",
       "      <td>330</td>\n",
       "      <td>MAZZEO</td>\n",
       "      <td>LOUIS</td>\n",
       "      <td>NaN</td>\n",
       "      <td>8/30/2021</td>\n",
       "      <td>NaN</td>\n",
       "    </tr>\n",
       "    <tr>\n",
       "      <th>21824</th>\n",
       "      <td>MARCHICK</td>\n",
       "      <td>DAVID</td>\n",
       "      <td>M</td>\n",
       "      <td>U24932</td>\n",
       "      <td>178020.0</td>\n",
       "      <td>VA</td>\n",
       "      <td>5/18/2021 15:15</td>\n",
       "      <td>K0102</td>\n",
       "      <td>5/18/2021 18:17</td>\n",
       "      <td>K01</td>\n",
       "      <td>...</td>\n",
       "      <td>PS</td>\n",
       "      <td>Sullivan</td>\n",
       "      <td>Patrick</td>\n",
       "      <td>NEOB</td>\n",
       "      <td>10th Floor</td>\n",
       "      <td>SULLIVAN</td>\n",
       "      <td>PATRICK</td>\n",
       "      <td>NaN</td>\n",
       "      <td>8/30/2021</td>\n",
       "      <td>NaN</td>\n",
       "    </tr>\n",
       "  </tbody>\n",
       "</table>\n",
       "<p>5 rows × 28 columns</p>\n",
       "</div>"
      ],
      "text/plain": [
       "          namelast namefirst namemid     uin    bdgnbr access_type  \\\n",
       "21913  FINKELSTEIN    MORGAN       A  U25158       NaN          VA   \n",
       "21836       DELKER     BRIAN       N  U25032  177630.0          VA   \n",
       "21822        SMITH     SARAH       E  U24917  177882.0          VA   \n",
       "21823      VENEZIA     ERICA       L  U24917  177993.0          VA   \n",
       "21824     MARCHICK     DAVID       M  U24932  178020.0          VA   \n",
       "\n",
       "                   toa    poa              tod  pod  ... terminal_suffix  \\\n",
       "21913              NaN    NaN              NaN  NaN  ...              MB   \n",
       "21836   5/19/2021 9:27  K0101  5/19/2021 11:07  K01  ...              GH   \n",
       "21822  5/18/2021 13:49  B0401              NaN  NaN  ...              LM   \n",
       "21823  5/18/2021 13:50  B0401  5/18/2021 16:21  D03  ...              LM   \n",
       "21824  5/18/2021 15:15  K0102  5/18/2021 18:17  K01  ...              PS   \n",
       "\n",
       "      visitee_namelast visitee_namefirst meeting_loc  meeting_room  \\\n",
       "21913           Browne            Martin        OEOB            97   \n",
       "21836             Holt           Charles        NEOB         SB235   \n",
       "21822           Mazzeo               Lou        OEOB           330   \n",
       "21823           Mazzeo               Lou        OEOB           330   \n",
       "21824         Sullivan           Patrick        NEOB    10th Floor   \n",
       "\n",
       "      caller_name_last caller_name_first caller_room releasedate description  \n",
       "21913           BROWNE            MARTIN         NaN   8/30/2021         NaN  \n",
       "21836             HALL           GREGORY         NaN   8/30/2021         NaN  \n",
       "21822           MAZZEO             LOUIS         NaN   8/30/2021         NaN  \n",
       "21823           MAZZEO             LOUIS         NaN   8/30/2021         NaN  \n",
       "21824         SULLIVAN           PATRICK         NaN   8/30/2021         NaN  \n",
       "\n",
       "[5 rows x 28 columns]"
      ]
     },
     "execution_count": 13,
     "metadata": {},
     "output_type": "execute_result"
    }
   ],
   "source": [
    "src.head()"
   ]
  },
  {
   "cell_type": "markdown",
   "metadata": {},
   "source": [
    "### Real dates"
   ]
  },
  {
   "cell_type": "code",
   "execution_count": 14,
   "metadata": {},
   "outputs": [],
   "source": [
    "date_cols = [\n",
    "    \"appt_made_date\",\n",
    "    \"appt_start_date\",\n",
    "    \"appt_end_date\",\n",
    "    \"appt_cancel_date\",\n",
    "    \"releasedate\",\n",
    "]"
   ]
  },
  {
   "cell_type": "code",
   "execution_count": 15,
   "metadata": {},
   "outputs": [],
   "source": [
    "src[date_cols] = src[date_cols].applymap(lambda x: pd.to_datetime(x))"
   ]
  },
  {
   "cell_type": "markdown",
   "metadata": {},
   "source": [
    "### The dataframe has inconsitent casing. Let's make it all upper for grouping later. "
   ]
  },
  {
   "cell_type": "code",
   "execution_count": 16,
   "metadata": {},
   "outputs": [],
   "source": [
    "src[\n",
    "    [\n",
    "        \"namelast\",\n",
    "        \"namefirst\",\n",
    "        \"namemid\",\n",
    "        \"uin\",\n",
    "        \"access_type\",\n",
    "        \"toa\",\n",
    "        \"poa\",\n",
    "        \"tod\",\n",
    "        \"pod\",\n",
    "        \"last_updatedby\",\n",
    "        \"post\",\n",
    "        \"lastentrydate\",\n",
    "        \"terminal_suffix\",\n",
    "        \"visitee_namelast\",\n",
    "        \"visitee_namefirst\",\n",
    "        \"meeting_loc\",\n",
    "        \"meeting_room\",\n",
    "        \"caller_name_last\",\n",
    "        \"caller_name_first\",\n",
    "        \"description\",\n",
    "    ]\n",
    "] = src[\n",
    "    [\n",
    "        \"namelast\",\n",
    "        \"namefirst\",\n",
    "        \"namemid\",\n",
    "        \"uin\",\n",
    "        \"access_type\",\n",
    "        \"toa\",\n",
    "        \"poa\",\n",
    "        \"tod\",\n",
    "        \"pod\",\n",
    "        \"last_updatedby\",\n",
    "        \"post\",\n",
    "        \"lastentrydate\",\n",
    "        \"terminal_suffix\",\n",
    "        \"visitee_namelast\",\n",
    "        \"visitee_namefirst\",\n",
    "        \"meeting_loc\",\n",
    "        \"meeting_room\",\n",
    "        \"caller_name_last\",\n",
    "        \"caller_name_first\",\n",
    "        \"description\",\n",
    "    ]\n",
    "].apply(\n",
    "    lambda x: x.astype(str).str.upper()\n",
    ")"
   ]
  },
  {
   "cell_type": "code",
   "execution_count": 17,
   "metadata": {},
   "outputs": [],
   "source": [
    "df = src.copy()"
   ]
  },
  {
   "cell_type": "markdown",
   "metadata": {},
   "source": [
    "---"
   ]
  },
  {
   "cell_type": "markdown",
   "metadata": {},
   "source": [
    "## Exports"
   ]
  },
  {
   "cell_type": "code",
   "execution_count": 20,
   "metadata": {},
   "outputs": [],
   "source": [
    "today = dt.date.today().strftime(\"%m-%d-%Y\")"
   ]
  },
  {
   "cell_type": "code",
   "execution_count": 21,
   "metadata": {},
   "outputs": [],
   "source": [
    "df.to_csv(\"data/processed/log_\" + today + \".csv\", index=False)\n",
    "df.to_csv(\"data/processed/log_latest.csv\", index=False)\n",
    "src.to_csv(\"data/raw/log_\" + today + \".csv\", index=False)"
   ]
  }
 ],
 "metadata": {
  "kernelspec": {
   "display_name": "Python 3 (ipykernel)",
   "language": "python",
   "name": "python3"
  },
  "language_info": {
   "codemirror_mode": {
    "name": "ipython",
    "version": 3
   },
   "file_extension": ".py",
   "mimetype": "text/x-python",
   "name": "python",
   "nbconvert_exporter": "python",
   "pygments_lexer": "ipython3",
   "version": "3.8.9"
  }
 },
 "nbformat": 4,
 "nbformat_minor": 4
}
