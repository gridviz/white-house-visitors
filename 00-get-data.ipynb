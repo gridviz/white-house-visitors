{
 "cells": [
  {
   "cell_type": "markdown",
   "metadata": {
    "tags": []
   },
   "source": [
    "# White House visitor logs"
   ]
  },
  {
   "cell_type": "markdown",
   "metadata": {},
   "source": [
    "### Import Python tools and Jupyter configuration"
   ]
  },
  {
   "cell_type": "code",
   "execution_count": 1,
   "metadata": {},
   "outputs": [],
   "source": [
    "%load_ext lab_black"
   ]
  },
  {
   "cell_type": "code",
   "execution_count": 2,
   "metadata": {},
   "outputs": [],
   "source": [
    "import pandas as pd\n",
    "import requests\n",
    "from bs4 import BeautifulSoup\n",
    "import re\n",
    "import datetime as dt\n",
    "import glob"
   ]
  },
  {
   "cell_type": "markdown",
   "metadata": {},
   "source": [
    "### Read the page to find links to the raw data"
   ]
  },
  {
   "cell_type": "code",
   "execution_count": 3,
   "metadata": {},
   "outputs": [],
   "source": [
    "r = requests.get(\"https://www.whitehouse.gov/disclosures/visitor-logs/\")\n",
    "soup = BeautifulSoup(r.text, \"html.parser\")"
   ]
  },
  {
   "cell_type": "code",
   "execution_count": 4,
   "metadata": {},
   "outputs": [],
   "source": [
    "links = [a.get(\"href\") for a in soup.find_all(\"a\", href=re.compile(\".csv\"))]"
   ]
  },
  {
   "cell_type": "code",
   "execution_count": 5,
   "metadata": {},
   "outputs": [],
   "source": [
    "for link in links:\n",
    "    !wget -P 'data/raw/csv' {link} --quiet -N"
   ]
  },
  {
   "cell_type": "code",
   "execution_count": 6,
   "metadata": {},
   "outputs": [],
   "source": [
    "path = \"data/raw/csv/\"\n",
    "all_files = glob.glob(path + \"*.csv\")\n",
    "\n",
    "li = []\n",
    "\n",
    "for filename in all_files:\n",
    "    df = pd.read_csv(filename, index_col=None, header=0)\n",
    "    li.append(df)\n",
    "\n",
    "src = pd.concat(li, axis=0, ignore_index=True)"
   ]
  },
  {
   "cell_type": "markdown",
   "metadata": {},
   "source": [
    "### Clean up the columns"
   ]
  },
  {
   "cell_type": "code",
   "execution_count": 7,
   "metadata": {},
   "outputs": [],
   "source": [
    "src.columns = src.columns.str.lower()"
   ]
  },
  {
   "cell_type": "code",
   "execution_count": 8,
   "metadata": {},
   "outputs": [],
   "source": [
    "src = src[src.columns.drop(list(src.filter(regex=\"unnamed\")))]"
   ]
  },
  {
   "cell_type": "code",
   "execution_count": 9,
   "metadata": {},
   "outputs": [],
   "source": [
    "src = src.sort_values(\"releasedate\", ascending=False)"
   ]
  },
  {
   "cell_type": "code",
   "execution_count": 10,
   "metadata": {},
   "outputs": [
    {
     "data": {
      "text/html": [
       "<div>\n",
       "<style scoped>\n",
       "    .dataframe tbody tr th:only-of-type {\n",
       "        vertical-align: middle;\n",
       "    }\n",
       "\n",
       "    .dataframe tbody tr th {\n",
       "        vertical-align: top;\n",
       "    }\n",
       "\n",
       "    .dataframe thead th {\n",
       "        text-align: right;\n",
       "    }\n",
       "</style>\n",
       "<table border=\"1\" class=\"dataframe\">\n",
       "  <thead>\n",
       "    <tr style=\"text-align: right;\">\n",
       "      <th></th>\n",
       "      <th>namelast</th>\n",
       "      <th>namefirst</th>\n",
       "      <th>namemid</th>\n",
       "      <th>uin</th>\n",
       "      <th>bdgnbr</th>\n",
       "      <th>access_type</th>\n",
       "      <th>toa</th>\n",
       "      <th>poa</th>\n",
       "      <th>tod</th>\n",
       "      <th>pod</th>\n",
       "      <th>...</th>\n",
       "      <th>terminal_suffix</th>\n",
       "      <th>visitee_namelast</th>\n",
       "      <th>visitee_namefirst</th>\n",
       "      <th>meeting_loc</th>\n",
       "      <th>meeting_room</th>\n",
       "      <th>caller_name_last</th>\n",
       "      <th>caller_name_first</th>\n",
       "      <th>caller_room</th>\n",
       "      <th>description</th>\n",
       "      <th>releasedate</th>\n",
       "    </tr>\n",
       "  </thead>\n",
       "  <tbody>\n",
       "    <tr>\n",
       "      <th>15183</th>\n",
       "      <td>POWELL</td>\n",
       "      <td>JEREMY</td>\n",
       "      <td>W</td>\n",
       "      <td>U25295</td>\n",
       "      <td>181014.0</td>\n",
       "      <td>VA</td>\n",
       "      <td>5/27/2021 8:24</td>\n",
       "      <td>K0101</td>\n",
       "      <td>NaN</td>\n",
       "      <td>NaN</td>\n",
       "      <td>...</td>\n",
       "      <td>CC</td>\n",
       "      <td>Cooper</td>\n",
       "      <td>Charles</td>\n",
       "      <td>NEOB</td>\n",
       "      <td>3202</td>\n",
       "      <td>COOPER</td>\n",
       "      <td>CHARLES</td>\n",
       "      <td>NaN</td>\n",
       "      <td>NaN</td>\n",
       "      <td>8/30/2021</td>\n",
       "    </tr>\n",
       "    <tr>\n",
       "      <th>14710</th>\n",
       "      <td>SAMSON</td>\n",
       "      <td>WILLIAM</td>\n",
       "      <td>E</td>\n",
       "      <td>U25068</td>\n",
       "      <td>NaN</td>\n",
       "      <td>VA</td>\n",
       "      <td>NaN</td>\n",
       "      <td>NaN</td>\n",
       "      <td>NaN</td>\n",
       "      <td>NaN</td>\n",
       "      <td>...</td>\n",
       "      <td>ET</td>\n",
       "      <td>Teleky</td>\n",
       "      <td>Ed</td>\n",
       "      <td>WH</td>\n",
       "      <td>EW 206</td>\n",
       "      <td>TELEKY</td>\n",
       "      <td>EDWARD</td>\n",
       "      <td>NaN</td>\n",
       "      <td>NaN</td>\n",
       "      <td>8/30/2021</td>\n",
       "    </tr>\n",
       "    <tr>\n",
       "      <th>14723</th>\n",
       "      <td>WILCOXSON</td>\n",
       "      <td>MARTHA</td>\n",
       "      <td>L</td>\n",
       "      <td>U25238</td>\n",
       "      <td>NaN</td>\n",
       "      <td>VA</td>\n",
       "      <td>NaN</td>\n",
       "      <td>NaN</td>\n",
       "      <td>NaN</td>\n",
       "      <td>NaN</td>\n",
       "      <td>...</td>\n",
       "      <td>DV</td>\n",
       "      <td>NaN</td>\n",
       "      <td>POTUS</td>\n",
       "      <td>WH</td>\n",
       "      <td>EW206</td>\n",
       "      <td>VIA</td>\n",
       "      <td>DANIEL</td>\n",
       "      <td>NaN</td>\n",
       "      <td>NaN</td>\n",
       "      <td>8/30/2021</td>\n",
       "    </tr>\n",
       "    <tr>\n",
       "      <th>14722</th>\n",
       "      <td>WILCOXSON</td>\n",
       "      <td>ANTHONY</td>\n",
       "      <td>L</td>\n",
       "      <td>U25238</td>\n",
       "      <td>NaN</td>\n",
       "      <td>VA</td>\n",
       "      <td>NaN</td>\n",
       "      <td>NaN</td>\n",
       "      <td>NaN</td>\n",
       "      <td>NaN</td>\n",
       "      <td>...</td>\n",
       "      <td>DV</td>\n",
       "      <td>NaN</td>\n",
       "      <td>POTUS</td>\n",
       "      <td>WH</td>\n",
       "      <td>EW206</td>\n",
       "      <td>VIA</td>\n",
       "      <td>DANIEL</td>\n",
       "      <td>NaN</td>\n",
       "      <td>NaN</td>\n",
       "      <td>8/30/2021</td>\n",
       "    </tr>\n",
       "    <tr>\n",
       "      <th>14721</th>\n",
       "      <td>WHITMAN</td>\n",
       "      <td>RALPH</td>\n",
       "      <td>E</td>\n",
       "      <td>U25238</td>\n",
       "      <td>NaN</td>\n",
       "      <td>VA</td>\n",
       "      <td>NaN</td>\n",
       "      <td>NaN</td>\n",
       "      <td>NaN</td>\n",
       "      <td>NaN</td>\n",
       "      <td>...</td>\n",
       "      <td>DV</td>\n",
       "      <td>NaN</td>\n",
       "      <td>POTUS</td>\n",
       "      <td>WH</td>\n",
       "      <td>EW206</td>\n",
       "      <td>VIA</td>\n",
       "      <td>DANIEL</td>\n",
       "      <td>NaN</td>\n",
       "      <td>NaN</td>\n",
       "      <td>8/30/2021</td>\n",
       "    </tr>\n",
       "  </tbody>\n",
       "</table>\n",
       "<p>5 rows × 28 columns</p>\n",
       "</div>"
      ],
      "text/plain": [
       "        namelast namefirst namemid     uin    bdgnbr access_type  \\\n",
       "15183     POWELL    JEREMY       W  U25295  181014.0          VA   \n",
       "14710     SAMSON   WILLIAM       E  U25068       NaN          VA   \n",
       "14723  WILCOXSON    MARTHA       L  U25238       NaN          VA   \n",
       "14722  WILCOXSON   ANTHONY       L  U25238       NaN          VA   \n",
       "14721    WHITMAN     RALPH       E  U25238       NaN          VA   \n",
       "\n",
       "                  toa    poa  tod  pod  ... terminal_suffix visitee_namelast  \\\n",
       "15183  5/27/2021 8:24  K0101  NaN  NaN  ...              CC           Cooper   \n",
       "14710             NaN    NaN  NaN  NaN  ...              ET           Teleky   \n",
       "14723             NaN    NaN  NaN  NaN  ...              DV              NaN   \n",
       "14722             NaN    NaN  NaN  NaN  ...              DV              NaN   \n",
       "14721             NaN    NaN  NaN  NaN  ...              DV              NaN   \n",
       "\n",
       "      visitee_namefirst meeting_loc  meeting_room caller_name_last  \\\n",
       "15183           Charles        NEOB          3202           COOPER   \n",
       "14710                Ed          WH        EW 206           TELEKY   \n",
       "14723             POTUS          WH         EW206              VIA   \n",
       "14722             POTUS          WH         EW206              VIA   \n",
       "14721             POTUS          WH         EW206              VIA   \n",
       "\n",
       "      caller_name_first caller_room description releasedate  \n",
       "15183           CHARLES         NaN         NaN   8/30/2021  \n",
       "14710            EDWARD         NaN         NaN   8/30/2021  \n",
       "14723            DANIEL         NaN         NaN   8/30/2021  \n",
       "14722            DANIEL         NaN         NaN   8/30/2021  \n",
       "14721            DANIEL         NaN         NaN   8/30/2021  \n",
       "\n",
       "[5 rows x 28 columns]"
      ]
     },
     "execution_count": 10,
     "metadata": {},
     "output_type": "execute_result"
    }
   ],
   "source": [
    "src.head()"
   ]
  },
  {
   "cell_type": "markdown",
   "metadata": {},
   "source": [
    "### Real dates"
   ]
  },
  {
   "cell_type": "code",
   "execution_count": 11,
   "metadata": {},
   "outputs": [],
   "source": [
    "date_cols = [\n",
    "    \"appt_made_date\",\n",
    "    \"appt_start_date\",\n",
    "    \"appt_end_date\",\n",
    "    \"appt_cancel_date\",\n",
    "    \"releasedate\",\n",
    "]"
   ]
  },
  {
   "cell_type": "code",
   "execution_count": 12,
   "metadata": {},
   "outputs": [],
   "source": [
    "src[date_cols] = src[date_cols].applymap(lambda x: pd.to_datetime(x))"
   ]
  },
  {
   "cell_type": "markdown",
   "metadata": {},
   "source": [
    "### The dataframe has inconsitent casing. Let's make it all upper for grouping later. "
   ]
  },
  {
   "cell_type": "code",
   "execution_count": 13,
   "metadata": {},
   "outputs": [],
   "source": [
    "src[\n",
    "    [\n",
    "        \"namelast\",\n",
    "        \"namefirst\",\n",
    "        \"namemid\",\n",
    "        \"uin\",\n",
    "        \"access_type\",\n",
    "        \"toa\",\n",
    "        \"poa\",\n",
    "        \"tod\",\n",
    "        \"pod\",\n",
    "        \"last_updatedby\",\n",
    "        \"post\",\n",
    "        \"lastentrydate\",\n",
    "        \"terminal_suffix\",\n",
    "        \"visitee_namelast\",\n",
    "        \"visitee_namefirst\",\n",
    "        \"meeting_loc\",\n",
    "        \"meeting_room\",\n",
    "        \"caller_name_last\",\n",
    "        \"caller_name_first\",\n",
    "        \"description\",\n",
    "    ]\n",
    "] = src[\n",
    "    [\n",
    "        \"namelast\",\n",
    "        \"namefirst\",\n",
    "        \"namemid\",\n",
    "        \"uin\",\n",
    "        \"access_type\",\n",
    "        \"toa\",\n",
    "        \"poa\",\n",
    "        \"tod\",\n",
    "        \"pod\",\n",
    "        \"last_updatedby\",\n",
    "        \"post\",\n",
    "        \"lastentrydate\",\n",
    "        \"terminal_suffix\",\n",
    "        \"visitee_namelast\",\n",
    "        \"visitee_namefirst\",\n",
    "        \"meeting_loc\",\n",
    "        \"meeting_room\",\n",
    "        \"caller_name_last\",\n",
    "        \"caller_name_first\",\n",
    "        \"description\",\n",
    "    ]\n",
    "].apply(\n",
    "    lambda x: x.astype(str).str.upper()\n",
    ")"
   ]
  },
  {
   "cell_type": "code",
   "execution_count": 14,
   "metadata": {},
   "outputs": [],
   "source": [
    "df = src.copy()"
   ]
  },
  {
   "cell_type": "markdown",
   "metadata": {},
   "source": [
    "---"
   ]
  },
  {
   "cell_type": "markdown",
   "metadata": {},
   "source": [
    "## Exports"
   ]
  },
  {
   "cell_type": "code",
   "execution_count": 15,
   "metadata": {},
   "outputs": [],
   "source": [
    "today = dt.date.today().strftime(\"%m-%d-%Y\")"
   ]
  },
  {
   "cell_type": "code",
   "execution_count": 16,
   "metadata": {},
   "outputs": [],
   "source": [
    "df.to_csv(\"data/processed/log_\" + today + \".csv\", index=False)\n",
    "df.to_csv(\"data/processed/log_latest.csv\", index=False)\n",
    "src.to_csv(\"data/raw/log_\" + today + \".csv\", index=False)"
   ]
  }
 ],
 "metadata": {
  "kernelspec": {
   "display_name": "Python 3 (ipykernel)",
   "language": "python",
   "name": "python3"
  },
  "language_info": {
   "codemirror_mode": {
    "name": "ipython",
    "version": 3
   },
   "file_extension": ".py",
   "mimetype": "text/x-python",
   "name": "python",
   "nbconvert_exporter": "python",
   "pygments_lexer": "ipython3",
   "version": "3.8.9"
  }
 },
 "nbformat": 4,
 "nbformat_minor": 4
}
